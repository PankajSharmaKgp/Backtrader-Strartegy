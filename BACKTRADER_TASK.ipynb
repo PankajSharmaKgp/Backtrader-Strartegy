{
  "nbformat": 4,
  "nbformat_minor": 0,
  "metadata": {
    "colab": {
      "provenance": []
    },
    "kernelspec": {
      "name": "python3",
      "display_name": "Python 3"
    },
    "language_info": {
      "name": "python"
    }
  },
  "cells": [
    {
      "cell_type": "code",
      "execution_count": null,
      "metadata": {
        "id": "P6MlQagGSk1q",
        "colab": {
          "base_uri": "https://localhost:8080/"
        },
        "outputId": "eeb09f9a-d2a9-4cab-e72b-f51bd8c8f0c6"
      },
      "outputs": [
        {
          "output_type": "stream",
          "name": "stdout",
          "text": [
            "Looking in indexes: https://pypi.org/simple, https://us-python.pkg.dev/colab-wheels/public/simple/\n",
            "Collecting backtrader\n",
            "  Downloading backtrader-1.9.76.123-py2.py3-none-any.whl (410 kB)\n",
            "\u001b[K     |████████████████████████████████| 410 kB 33.3 MB/s \n",
            "\u001b[?25hInstalling collected packages: backtrader\n",
            "Successfully installed backtrader-1.9.76.123\n"
          ]
        }
      ],
      "source": [
        "pip install backtrader"
      ]
    },
    {
      "cell_type": "code",
      "source": [
        "pip install yfinance"
      ],
      "metadata": {
        "colab": {
          "base_uri": "https://localhost:8080/"
        },
        "id": "KG15Ox35ThlJ",
        "outputId": "9dc455f7-87b1-4977-bd59-e5d6911201a6"
      },
      "execution_count": null,
      "outputs": [
        {
          "output_type": "stream",
          "name": "stdout",
          "text": [
            "Looking in indexes: https://pypi.org/simple, https://us-python.pkg.dev/colab-wheels/public/simple/\n",
            "Collecting yfinance\n",
            "  Downloading yfinance-0.1.87-py2.py3-none-any.whl (29 kB)\n",
            "Requirement already satisfied: lxml>=4.5.1 in /usr/local/lib/python3.8/dist-packages (from yfinance) (4.9.1)\n",
            "Requirement already satisfied: pandas>=0.24.0 in /usr/local/lib/python3.8/dist-packages (from yfinance) (1.3.5)\n",
            "Requirement already satisfied: numpy>=1.15 in /usr/local/lib/python3.8/dist-packages (from yfinance) (1.21.6)\n",
            "Requirement already satisfied: appdirs>=1.4.4 in /usr/local/lib/python3.8/dist-packages (from yfinance) (1.4.4)\n",
            "Requirement already satisfied: multitasking>=0.0.7 in /usr/local/lib/python3.8/dist-packages (from yfinance) (0.0.11)\n",
            "Collecting requests>=2.26\n",
            "  Downloading requests-2.28.1-py3-none-any.whl (62 kB)\n",
            "\u001b[K     |████████████████████████████████| 62 kB 1.7 MB/s \n",
            "\u001b[?25hRequirement already satisfied: python-dateutil>=2.7.3 in /usr/local/lib/python3.8/dist-packages (from pandas>=0.24.0->yfinance) (2.8.2)\n",
            "Requirement already satisfied: pytz>=2017.3 in /usr/local/lib/python3.8/dist-packages (from pandas>=0.24.0->yfinance) (2022.6)\n",
            "Requirement already satisfied: six>=1.5 in /usr/local/lib/python3.8/dist-packages (from python-dateutil>=2.7.3->pandas>=0.24.0->yfinance) (1.15.0)\n",
            "Requirement already satisfied: certifi>=2017.4.17 in /usr/local/lib/python3.8/dist-packages (from requests>=2.26->yfinance) (2022.9.24)\n",
            "Requirement already satisfied: idna<4,>=2.5 in /usr/local/lib/python3.8/dist-packages (from requests>=2.26->yfinance) (2.10)\n",
            "Requirement already satisfied: charset-normalizer<3,>=2 in /usr/local/lib/python3.8/dist-packages (from requests>=2.26->yfinance) (2.1.1)\n",
            "Requirement already satisfied: urllib3<1.27,>=1.21.1 in /usr/local/lib/python3.8/dist-packages (from requests>=2.26->yfinance) (1.24.3)\n",
            "Installing collected packages: requests, yfinance\n",
            "  Attempting uninstall: requests\n",
            "    Found existing installation: requests 2.23.0\n",
            "    Uninstalling requests-2.23.0:\n",
            "      Successfully uninstalled requests-2.23.0\n",
            "Successfully installed requests-2.28.1 yfinance-0.1.87\n"
          ]
        }
      ]
    },
    {
      "cell_type": "code",
      "source": [
        "import backtrader as bt\n",
        "import yfinance as yf"
      ],
      "metadata": {
        "id": "KLIZACkRT0jn"
      },
      "execution_count": null,
      "outputs": []
    },
    {
      "cell_type": "code",
      "source": [
        "data=bt.feeds.PandasData(dataname=yf.download('MSFT','2020-01-01','2021-01-01'))"
      ],
      "metadata": {
        "id": "-wd4CYMsUKB1",
        "colab": {
          "base_uri": "https://localhost:8080/"
        },
        "outputId": "749fdf18-9619-46c5-a69a-3716913beffb"
      },
      "execution_count": null,
      "outputs": [
        {
          "output_type": "stream",
          "name": "stdout",
          "text": [
            "\r[*********************100%***********************]  1 of 1 completed\n"
          ]
        }
      ]
    },
    {
      "cell_type": "code",
      "source": [
        "data"
      ],
      "metadata": {
        "colab": {
          "base_uri": "https://localhost:8080/"
        },
        "id": "wkCitbnzWmZR",
        "outputId": "5f204b30-bde6-483f-878a-36de59144d21"
      },
      "execution_count": null,
      "outputs": [
        {
          "output_type": "execute_result",
          "data": {
            "text/plain": [
              "<backtrader.feeds.pandafeed.PandasData at 0x7fa50282be20>"
            ]
          },
          "metadata": {},
          "execution_count": 5
        }
      ]
    },
    {
      "cell_type": "markdown",
      "source": [
        "strategy:\n",
        "1.Check for  MACD crossover\n",
        "2. Wait till rsi exceeds 40\n",
        "3.Wait till traded volume exceeds sms volume\n",
        "4. Sell for downward macd crossover and rsi<80 and traded volume is less than sma volume"
      ],
      "metadata": {
        "id": "QYOZSlv_u0Do"
      }
    },
    {
      "cell_type": "code",
      "source": [
        "class Strategy(bt.Strategy):\n",
        "    def __init__(self):\n",
        "        super().__init__()\n",
        "        self.rsi=bt.indicators.RSI_Safe(self.data.close,period=14)\n",
        "        self.volume=self.data.volume\n",
        "        self.volume_sma=bt.indicators.Average(self.volume,period=14)\n",
        "        self.me1=bt.indicators.EMA(self.data.close,period=26)\n",
        "        self.me2=bt.indicators.EMA(self.data.close,period=12)\n",
        "        self.macd=self.me1-self.me2\n",
        "        self.signal=bt.indicators.EMA(self.macd,period=9)\n",
        "        self.diff=self.macd-self.signal\n",
        "        self.long=False\n",
        "        self.stock=False\n",
        "        self.diffsignal=False\n",
        "        self.rsisignal=False\n",
        "    \n",
        "        \n",
        "        \n",
        "        \n",
        "        \n",
        "        \n",
        "    def log(self,text):\n",
        "        dt=self.datas[0].datetime.date(0)\n",
        "        print(dt.isoformat(),', '+text)\n",
        "        \n",
        "        \n",
        "    def notify_order(self,order):\n",
        "        if order.status in [order.Submitted,order.Accepted]:\n",
        "            return\n",
        "        if order.status in[order.Completed]:\n",
        "            if order.isbuy():\n",
        "                self.log('Buy Executed: Price-%2f,Cost-%2f,Commission-%2f' % (order.executed.price,order.executed.value,order.executed.comm))\n",
        "                self.long=True\n",
        "                self.diffsignal=False\n",
        "                self.stock=False\n",
        "                self.rsisignal=False\n",
        "                \n",
        "            if order.issell():\n",
        "                self.log('Sell Executed: Price-%2f,Cost-%2f,Commission-%2f' % (order.executed.price,order.executed.value,order.executed.comm))\n",
        "                self.long=False\n",
        "                self.diffsignal=False\n",
        "                self.stock=False\n",
        "                self.rsisignal=False\n",
        "                \n",
        "            self.bar_executed=len(self)\n",
        "            \n",
        "        elif order.status in [order.Canceled,order.Margin,order.Rejected]:\n",
        "            self.log('Order rejected/margin/cancelled')\n",
        "            \n",
        "            \n",
        "        self.order=None\n",
        "    \n",
        "    \n",
        "    def next(self):\n",
        "        if not self.long:\n",
        "            if not self.diffsignal:\n",
        "                if self.diff[-1]<0 and self.diff[0]>0:\n",
        "                    self.diffsignal=True\n",
        "            if self.diffsignal:\n",
        "                if self.diff[0]>0:\n",
        "                    self.stock=True\n",
        "                else:\n",
        "                    self.diffsignal=False\n",
        "                    self.stock=False\n",
        "                    self.rsisignal=False\n",
        "            \n",
        "            if self.stock:\n",
        "                if self.rsi>40:\n",
        "                    self.rsisignal=True\n",
        "                else:\n",
        "                    self.rsisignal=False\n",
        "        \n",
        "            if self.rsisignal:\n",
        "                if self.volume>self.volume_sma:\n",
        "                    self.buy()\n",
        "\n",
        "                \n",
        "                \n",
        "                \n",
        "                    \n",
        "        if self.long:\n",
        "            if not self.diffsignal:\n",
        "                if self.diff[-1]>0 and self.diff[0]<0:\n",
        "                    self.diffsignal=True\n",
        "            if self.diffsignal:\n",
        "                if self.diff[0]<0:\n",
        "                    self.stock=True\n",
        "                else:\n",
        "                    self.diffsignal=False\n",
        "                    self.stock=False\n",
        "                    self.rsisignal=False\n",
        "                    \n",
        "            if self.stock:\n",
        "                if self.rsi<80:\n",
        "                    self.rsisignal=True\n",
        "                else:\n",
        "                    self.rsisignal=False\n",
        "                    \n",
        "            if self.rsisignal:\n",
        "                if self.volume>self.volume_sma:\n",
        "                    self.sell()\n",
        "                \n",
        "               \n",
        "                    \n",
        "            \n",
        "            \n",
        "            \n",
        "        \n",
        "    def stop(self):\n",
        "        if self.long:\n",
        "            self.sell()\n",
        "    "
      ],
      "metadata": {
        "id": "3l1BTlPNWz0z"
      },
      "execution_count": null,
      "outputs": []
    },
    {
      "cell_type": "code",
      "source": [
        "cerebro=bt.Cerebro()\n",
        "cerebro.adddata(data)\n",
        "cerebro.addstrategy(Strategy)\n",
        "cerebro.broker.setcash(1000000.0)\n",
        "cerebro.addsizer(bt.sizers.FixedSize,stake=4000)\n",
        "cerebro.broker.setcommission(commission=0.005)\n",
        "cerebro.addanalyzer(bt.analyzers.SharpeRatio,_name='mysharpe',compression=60,timeframe=bt.TimeFrame.Days)\n",
        "cerebro.addanalyzer(bt.analyzers.DrawDown,_name='mydrawdown')\n",
        "cerebro.addanalyzer(bt.analyzers.DrawDown)\n",
        "strategies=cerebro.run()\n",
        "print('Final cash is- %2f' % (cerebro.broker.get_value()))\n",
        "\n"
      ],
      "metadata": {
        "id": "hWR_3BnhW5T2",
        "colab": {
          "base_uri": "https://localhost:8080/"
        },
        "outputId": "a27584f4-aef1-42dc-e1fe-2725694113d6"
      },
      "execution_count": null,
      "outputs": [
        {
          "output_type": "stream",
          "name": "stdout",
          "text": [
            "2020-05-14 , Buy Executed: Price-177.539993,Cost-710159.973145,Commission-3550.799866\n",
            "2020-06-11 , Sell Executed: Price-193.130005,Cost-710159.973145,Commission-3862.600098\n",
            "2020-07-21 , Buy Executed: Price-213.660004,Cost-854640.014648,Commission-4273.200073\n",
            "2020-08-05 , Sell Executed: Price-214.899994,Cost-854640.014648,Commission-4297.999878\n",
            "2020-09-08 , Buy Executed: Price-206.500000,Cost-826000.000000,Commission-4130.000000\n",
            "2020-10-01 , Sell Executed: Price-213.490005,Cost-826000.000000,Commission-4269.800110\n",
            "2020-10-27 , Buy Executed: Price-211.589996,Cost-846359.985352,Commission-4231.799927\n",
            "2020-11-06 , Sell Executed: Price-222.259995,Cost-846359.985352,Commission-4445.199890\n",
            "2020-11-25 , Buy Executed: Price-215.110001,Cost-860440.002441,Commission-4302.200012\n",
            "2020-12-02 , Sell Executed: Price-214.880005,Cost-860440.002441,Commission-4297.600098\n",
            "2020-12-10 , Buy Executed: Price-211.770004,Cost-847080.017090,Commission-4235.400085\n",
            "2020-12-17 , Sell Executed: Price-219.869995,Cost-847080.017090,Commission-4397.399902\n",
            "Final cash is- 1119146.002502\n"
          ]
        }
      ]
    },
    {
      "cell_type": "code",
      "source": [
        "strategies[0].analyzers.mysharpe.get_analysis()\n"
      ],
      "metadata": {
        "colab": {
          "base_uri": "https://localhost:8080/"
        },
        "id": "ZmINjWhTW9XM",
        "outputId": "96fbcab6-091b-4b5d-f907-d50cf4134f6b"
      },
      "execution_count": null,
      "outputs": [
        {
          "output_type": "execute_result",
          "data": {
            "text/plain": [
              "OrderedDict([('sharperatio', 0.05553454274643205)])"
            ]
          },
          "metadata": {},
          "execution_count": 9
        }
      ]
    },
    {
      "cell_type": "code",
      "source": [
        "strategies[0].analyzers.mydrawdown.get_analysis()"
      ],
      "metadata": {
        "colab": {
          "base_uri": "https://localhost:8080/"
        },
        "id": "7r2sxkKNutNc",
        "outputId": "57ba8764-e08f-4ff0-cf11-199fbe30c2be"
      },
      "execution_count": null,
      "outputs": [
        {
          "output_type": "execute_result",
          "data": {
            "text/plain": [
              "AutoOrderedDict([('len', 10),\n",
              "                 ('drawdown', 0.18172000404145594),\n",
              "                 ('moneydown', 2037.41455078125),\n",
              "                 ('max',\n",
              "                  AutoOrderedDict([('len', 102),\n",
              "                                   ('drawdown', 6.744825740122326),\n",
              "                                   ('moneydown', 72415.76843261719)]))])"
            ]
          },
          "metadata": {},
          "execution_count": 10
        }
      ]
    }
  ]
}